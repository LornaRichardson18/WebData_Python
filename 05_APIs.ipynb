{
 "cells": [
  {
   "cell_type": "markdown",
   "metadata": {},
   "source": [
    "# What is an API? 🤔\n",
    "\n",
    "Glad you asked.\n",
    "\n",
    "We now have the ability to exchange data between applications using HyperText Transport Protocol (HTTP) and a way to represent complex data that we are sending back and forth between these applications using eXtensible Markup Language (XML) or JavaScript Object Notation (JSON).\n",
    "\n",
    "The next step is to begin to define and document \"contracts\" between applications using these techniques. The general name for these application-to-application contracts is Application Program Interfaces or APIs. When we use an API, generally one program makes a set of services available for use by other applications and publishes the APIs (i.e., the \"rules\") that must be followed to access the services provided by the program.\n",
    "\n",
    "When we begin to build our programs where the functionality of our program includes access to services provided by other programs, we call the approach a Service-Oriented Architecture or SOA. A SOA approach is one where our overall application makes use of the services of other applications. A non-SOA approach is where the application is a single standalone application which contains all of the code necessary to implement the application.\n",
    "\n",
    "We see many examples of SOA when we use the web. We can go to a single web site and book air travel, hotels, and automobiles all from a single site. The data for hotels is not stored on the airline computers. Instead, the airline computers contact the services on the hotel computers and retrieve the hotel data and present it to the user. When the user agrees to make a hotel reservation using the airline site, the airline site uses another web service on the hotel systems to actually make the reservation. And when it comes time to charge your credit card for the whole transaction, still other computers become involved in the process.\n",
    "\n",
    "![](assets/api.png)\n",
    "\n",
    "![](assets/api2.png)\n",
    "\n",
    "\n",
    "You can check this [video](https://youtu.be/s7wmiS2mSXY) if the above description is not very clear. Actually, check it anyway!\n",
    "\n",
    "### Querying APIs\n",
    "\n",
    "We will be mianly doing `GET` requests to query data from an API.\n",
    "For this first example we will use the [OpenNotify API](http://open-notify.org/Open-Notify-API/).\n",
    "\n",
    "First we need to know the API endpoints. That is a server route that is used to retrieve the data from the API. This points to where the data is located in the API. \n",
    "\n",
    "For example the [Reddit API](https://www.reddit.com/dev/api/) has a `/comments` endpoint from whcih you can get information about comments while the `/user` endpoint is used to get information about the users. \n",
    "To access this data you would need the base url (e.g http://www.reddit.com/) and the endpoint which is added to the base url (e.g. 'http://www.reddit.com/user/spilcm/comments/.json).\n",
    "\n",
    "Going back the example. We will look at OpenNotify `iss-now.json` endpoint. Which gives us the current latitute and lingitude of the International Space Station. \n"
   ]
  },
  {
   "cell_type": "code",
   "execution_count": 3,
   "metadata": {},
   "outputs": [
    {
     "name": "stdout",
     "output_type": "stream",
     "text": [
      "200\n"
     ]
    }
   ],
   "source": [
    "import requests\n",
    "\n",
    "response = requests.get(\"http://api.open-notify.org/iss-now.json\")\n",
    "\n",
    "print(response.status_code)"
   ]
  },
  {
   "cell_type": "markdown",
   "metadata": {},
   "source": [
    "What happens if you pass an endpoint that does not exist?"
   ]
  },
  {
   "cell_type": "code",
   "execution_count": 4,
   "metadata": {},
   "outputs": [
    {
     "name": "stdout",
     "output_type": "stream",
     "text": [
      "404\n"
     ]
    }
   ],
   "source": [
    "response = requests.get(\"http://api.open-notify.org/iss-pass\")\n",
    "print(response.status_code)"
   ]
  },
  {
   "cell_type": "markdown",
   "metadata": {},
   "source": [
    "The problem with the above query is that we forgot to add the `.json` but to the end. Let's fix this"
   ]
  },
  {
   "cell_type": "code",
   "execution_count": 6,
   "metadata": {},
   "outputs": [
    {
     "name": "stdout",
     "output_type": "stream",
     "text": [
      "400\n"
     ]
    }
   ],
   "source": [
    "response = requests.get(\"http://api.open-notify.org/iss-pass.json\")\n",
    "print(response.status_code)"
   ]
  },
  {
   "cell_type": "markdown",
   "metadata": {},
   "source": [
    "### Query parameters\n",
    "\n",
    "We got a `400` response. By looking at the [documentation](http://open-notify.org/Open-Notify-API/ISS-Pass-Times/) we realize we need to pass the coordinates of the location we are interested in by providing the latitude and longitude. \n",
    "\n",
    "This is done by passing an optional keyword argument `params` to our request.\n",
    "\n",
    "We can make a dictionary with the `lat` and `lon` (latitute and longitude, respectively) and pass them to the `request.get` function.\n",
    "\n",
    "Let's use the coordinates for New York city and see what we get. "
   ]
  },
  {
   "cell_type": "code",
   "execution_count": 26,
   "metadata": {},
   "outputs": [
    {
     "name": "stdout",
     "output_type": "stream",
     "text": [
      "b'{\\n  \"message\": \"success\", \\n  \"request\": {\\n    \"altitude\": 100, \\n    \"datetime\": 1526981162, \\n    \"latitude\": 40.71, \\n    \"longitude\": -74.0, \\n    \"passes\": 5\\n  }, \\n  \"response\": [\\n    {\\n      \"duration\": 554, \\n      \"risetime\": 1527033468\\n    }, \\n    {\\n      \"duration\": 638, \\n      \"risetime\": 1527039195\\n    }, \\n    {\\n      \"duration\": 574, \\n      \"risetime\": 1527045047\\n    }, \\n    {\\n      \"duration\": 548, \\n      \"risetime\": 1527050911\\n    }, \\n    {\\n      \"duration\": 615, \\n      \"risetime\": 1527056715\\n    }\\n  ]\\n}\\n'\n",
      "b'{\\n  \"message\": \"success\", \\n  \"request\": {\\n    \"altitude\": 100, \\n    \"datetime\": 1526981162, \\n    \"latitude\": 40.71, \\n    \"longitude\": -74.0, \\n    \"passes\": 5\\n  }, \\n  \"response\": [\\n    {\\n      \"duration\": 554, \\n      \"risetime\": 1527033468\\n    }, \\n    {\\n      \"duration\": 638, \\n      \"risetime\": 1527039195\\n    }, \\n    {\\n      \"duration\": 574, \\n      \"risetime\": 1527045047\\n    }, \\n    {\\n      \"duration\": 548, \\n      \"risetime\": 1527050911\\n    }, \\n    {\\n      \"duration\": 615, \\n      \"risetime\": 1527056715\\n    }\\n  ]\\n}\\n'\n"
     ]
    }
   ],
   "source": [
    "# Set up the parameters we want to pass to the API.\n",
    "# This is the latitude and longitude of New York City.\n",
    "parameters = {\"lat\": 40.71, \"lon\": -74}\n",
    "\n",
    "# Make a get request with the parameters.\n",
    "response = requests.get(\"http://api.open-notify.org/iss-pass.json\", params=parameters)\n",
    "\n",
    "# Print the content of the response (the data the server returned)\n",
    "print(response.content)\n",
    "\n",
    "# This gets the same data as the command above\n",
    "response = requests.get(\"http://api.open-notify.org/iss-pass.json?lat=40.71&lon=-74\")\n",
    "print(response.content)"
   ]
  },
  {
   "cell_type": "markdown",
   "metadata": {},
   "source": [
    "If you rememeber from the previous section we can place this information in a json object and then use this as a Python object. "
   ]
  },
  {
   "cell_type": "code",
   "execution_count": 21,
   "metadata": {},
   "outputs": [
    {
     "name": "stdout",
     "output_type": "stream",
     "text": [
      "{'message': 'success', 'request': {'altitude': 100, 'datetime': 1526981162, 'latitude': 40.71, 'longitude': -74.0, 'passes': 5}, 'response': [{'duration': 554, 'risetime': 1527033468}, {'duration': 638, 'risetime': 1527039195}, {'duration': 574, 'risetime': 1527045047}, {'duration': 548, 'risetime': 1527050911}, {'duration': 615, 'risetime': 1527056715}]}\n",
      "\n",
      " \n",
      " The type of the response is <class 'dict'>\n"
     ]
    }
   ],
   "source": [
    "response_json = response.json()\n",
    "print(response_json)\n",
    "print(f'\\n \\n The type of the response is {type(response_json)}')"
   ]
  },
  {
   "cell_type": "markdown",
   "metadata": {},
   "source": [
    "### Content type\n",
    "\n",
    "The server doesn't just send a status code and the data when it generates a response. It also sends metadata containing information on how the data was generated and how to decode it. This is stored in the response headers. In Python, we can access this with the `headers` property of a response object.\n",
    "\n",
    "The headers will be shown as a dictionary. Within the headers, `content-type` is the most important key for now. It tells us the format of the response, and how to decode it. For the OpenNotify API, the format is JSON, which is why we could decode it with the `json` package earlier."
   ]
  },
  {
   "cell_type": "code",
   "execution_count": 24,
   "metadata": {},
   "outputs": [
    {
     "name": "stdout",
     "output_type": "stream",
     "text": [
      "{'Server': 'nginx/1.10.3', 'Date': 'Tue, 22 May 2018 09:40:39 GMT', 'Content-Type': 'application/json', 'Content-Length': '519', 'Connection': 'keep-alive', 'Via': '1.1 vegur'} \n",
      "\n",
      "'\n",
      "application/json\n"
     ]
    }
   ],
   "source": [
    "# Headers is a dictionary\n",
    "print(f'{response.headers} \\n\\n\\'')\n",
    "\n",
    "# Get the content-type from the dictionary.\n",
    "print(response.headers[\"content-type\"])"
   ]
  },
  {
   "cell_type": "markdown",
   "metadata": {},
   "source": [
    ">#### Exercise\n",
    "> a) Can you figure out how to get the number of people in the space?\n",
    "> Make sure to check the documentation from OPenNotify. Print out the number only\n",
    "> b) From the response above now print the names of the people in space"
   ]
  },
  {
   "cell_type": "code",
   "execution_count": 25,
   "metadata": {},
   "outputs": [
    {
     "name": "stdout",
     "output_type": "stream",
     "text": [
      "{'people': [{'name': 'Anton Shkaplerov', 'craft': 'ISS'}, {'name': 'Scott Tingle', 'craft': 'ISS'}, {'name': 'Norishige Kanai', 'craft': 'ISS'}, {'name': 'Oleg Artemyev', 'craft': 'ISS'}, {'name': 'Andrew Feustel', 'craft': 'ISS'}, {'name': 'Richard Arnold', 'craft': 'ISS'}], 'number': 6, 'message': 'success'}\n"
     ]
    }
   ],
   "source": [
    "\n",
    "# Get the response from the API endpoint.\n",
    "response = requests.get(\"http://api.open-notify.org/astros.json\")\n",
    "data = response.json()\n",
    "\n",
    "print(data)"
   ]
  },
  {
   "cell_type": "markdown",
   "metadata": {},
   "source": [
    "## Accessing Twitter API using tweepy\n",
    "\n",
    "You can find the documentation for the Twitter API [here](https://developer.twitter.com/en/docs)\n",
    "\n",
    "To access the Twitter data you need the following:\n",
    "- Twitter account\n",
    "- Twitter developer account\n",
    "- Create an application (get access and cosumer tokens)\n",
    "\n",
    "If you need help with any of these steps follow this [tutorial](http://docs.inboundnow.com/guide/create-twitter-application/)\n",
    "\n",
    "<br>\n",
    "<div class='warn'>\n",
    " ⚠️ Make sure to never share your credentials in GitHub\n",
    "</div>\n",
    "\n",
    "<br>\n",
    "\n",
    "We will be using a Python library called Tweepy, this will help us to access the API more efficiently while getting Python ready objects.\n",
    "\n",
    "\n",
    "As opposed to the previous examples, we first need to authenticate to the API using OAuth. (Check the Tweepy documentation[here](http://tweepy.readthedocs.io/en/v3.6.0/)"
   ]
  },
  {
   "cell_type": "code",
   "execution_count": 29,
   "metadata": {},
   "outputs": [
    {
     "name": "stdout",
     "output_type": "stream",
     "text": [
      "Logged in as ✨ 𝕋𝕒𝕟𝕚𝕒  💀👩🏻‍💻🇬🇧🇲🇽\n"
     ]
    }
   ],
   "source": [
    "import tweepy\n",
    "\n",
    "consumer_key = 'xxx'\n",
    "consumer_secret = 'xxx'\n",
    "access_token = 'xxx'\n",
    "access_token_secret = 'xxx'\n",
    "\n",
    "auth = tweepy.OAuthHandler(consumer_key, consumer_secret)\n",
    "auth.set_access_token(access_token, access_token_secret)\n",
    "twitter_api = tweepy.API(auth)\n",
    "\n",
    "print('Logged in as {}'.format(twitter_api.me().name))"
   ]
  },
  {
   "cell_type": "markdown",
   "metadata": {},
   "source": [
    "## Querying the API\n",
    "\n",
    "Now that we are logged in, it means we can now start querying the API. Let's start by collecting out timeline. \n",
    "\n",
    "Again, we will be using the Tweepy library, but under the hood this is a `requests.get` function. For this we are going to create a function `see_timeline`. So we can call this multiple times if needed.\n",
    "\n",
    "\n",
    "Also... tweets contain a lot of information. Let's see what is in a `tweet json object` https://developer.twitter.com/en/docs/tweets/data-dictionary/overview/tweet-object\n",
    "\n",
    "For this example we will extract the `user.name` Which is the Tweeter's name and the `tweet.text` which is the content of the tweet itself."
   ]
  },
  {
   "cell_type": "code",
   "execution_count": 34,
   "metadata": {},
   "outputs": [],
   "source": [
    "def see_timeline(no_tweets):\n",
    "    \"\"\"Print no_tweets tweets in our timeline\n",
    "    Args:\n",
    "    ----\n",
    "    no_tweets: int number of tweets to be printed\n",
    "    \"\"\"\n",
    "    for tweet in tweepy.Cursor(twitter_api.home_timeline).items(no_tweets):\n",
    "        print(\"\\n {} tweeted by {}\".format(tweet.text, tweet.user.name))"
   ]
  },
  {
   "cell_type": "code",
   "execution_count": 35,
   "metadata": {},
   "outputs": [
    {
     "name": "stdout",
     "output_type": "stream",
     "text": [
      "\n",
      " New preprint on \"Heterogeneous Multi-output Gaussian Process Prediction\". Work with @pablorenoz (visiting student a… https://t.co/jyRNlbWrfV tweeted by Mauricio A. Álvarez\n",
      "\n",
      " RT @nick_fildes: #Unbreakable #Manchester 🐝🐝🐝 @CrazyPedros 💪💪 https://t.co/m5jXiGC4f2 tweeted by Crazy Pedro\n",
      "\n",
      " RT @SlashDataHQ: #DeveloperMarketing – what is it, why is it important, how to develop it successfully?  @jeffsand shared his experiences w… tweeted by Jeff Sandquist\n",
      "\n",
      " Benefit sanctions found to be ineffective and damaging\n",
      "\n",
      "https://t.co/Pky2EfU8S8 tweeted by Juanjo Medina\n",
      "\n",
      " Chromocenters, comprising satellite DNA and proteins, help contain DNA inside the nucleus between cell divisions… https://t.co/8JRUWysLNf tweeted by eLife - the journal\n",
      "\n",
      " RT @MartinSFP: Interesting point: Facebook has a surprisingly stable c-suite https://t.co/eSQjYukoHS tweeted by 𝖯𝖾𝗇𝗇𝗒 𝖢𝖲 𝖠𝗇𝖽𝗋𝖾𝗐𝗌 🌈🔥\n",
      "\n",
      " Uniqlo are asking if I’m resort-ready. Buy me a holiday, corporations, don’t sell me shorts. tweeted by 𝖯𝖾𝗇𝗇𝗒 𝖢𝖲 𝖠𝗇𝖽𝗋𝖾𝗐𝗌 🌈🔥\n",
      "\n",
      " RT @Dscan_Titan: D78 #100DaysOfCode learning how to create a setup file for my app. https://t.co/03dfWlqqvG tweeted by 100daysofCode\n",
      "\n",
      " ¿Para qué promueven un debate sí de los temas centrales nada? #MiColumna de hoy:  https://t.co/qHdJuOPXVg tweeted by Carlos Loret de Mola\n",
      "\n",
      " Coming up later - watch ASI's Marc Warner debate economic benefits of AI with @margot_james_mp and @SamGyimah live… https://t.co/Za6nFWxX63 tweeted by ASI Data Science\n"
     ]
    }
   ],
   "source": [
    "see_timeline(10)"
   ]
  },
  {
   "cell_type": "markdown",
   "metadata": {},
   "source": [
    "Tweepy returns a cursor object, which makes it easy to collect and store the tweets. \n",
    "\n",
    "Now How would you go  about colleting, let's say tweets containing a certain keyword or hashtag? Let's find out"
   ]
  },
  {
   "cell_type": "code",
   "execution_count": 48,
   "metadata": {},
   "outputs": [],
   "source": [
    "def collect_tweets(keyword):\n",
    "    \"\"\"This function will take the query terms for the form submitted by the user. The\n",
    "    queries can be simple words, hashtags and or a mixture of both.\n",
    "    It can receive multiple keywords at a time.\n",
    "    Once the query is submitted via the form, the function access the API and retrieves\n",
    "    the tweets which are stored in a list\"\"\"\n",
    "    keyword = keyword.strip()\n",
    "    print(f'Finding tweets containing:: {keyword}')\n",
    "    tweets = twitter_api.search(keyword)\n",
    "    \n",
    "    return tweets"
   ]
  },
  {
   "cell_type": "code",
   "execution_count": 49,
   "metadata": {},
   "outputs": [
    {
     "name": "stdout",
     "output_type": "stream",
     "text": [
      "Finding tweets containing:: hello world\n"
     ]
    }
   ],
   "source": [
    "tweets = collect_tweets('hello world')"
   ]
  },
  {
   "cell_type": "code",
   "execution_count": 50,
   "metadata": {},
   "outputs": [
    {
     "data": {
      "text/plain": [
       "15"
      ]
     },
     "execution_count": 50,
     "metadata": {},
     "output_type": "execute_result"
    }
   ],
   "source": [
    "tweets.count"
   ]
  },
  {
   "cell_type": "code",
   "execution_count": 51,
   "metadata": {},
   "outputs": [
    {
     "name": "stdout",
     "output_type": "stream",
     "text": [
      "RT @chiyomaru5pb: Hello Palmer, \n",
      "I was thrilled to find out that you use Okabe from S;G which I created, as your profile picture. I own thr… \n",
      "\n",
      "RT @Petit__Rien: Hello world have a great day_______🌸 https://t.co/XI67XTp3g7 \n",
      "\n",
      "RT @Petit__Rien: Hello world have a great day_______🌸 https://t.co/XI67XTp3g7 \n",
      "\n",
      "Oh hello world! https://t.co/FR8OXwsEge \n",
      "\n",
      "@PanasonicUK hello there. I have the 2512 breadmaker, can you recommend which of the dough settings would be the be… https://t.co/Ppub5xtpMj \n",
      "\n",
      "RT @hoxeokie: hello i'd like to direct your attention to 5 seconds of pure bliss. jst look at him. look at this angel. give him The Whole W… \n",
      "\n",
      "hello world na mayward Family watch niyo po i share ko lang po ito sa inyo ..nawa may tanunuhan kayo sa pg share ko… https://t.co/yhJgQgV3C1 \n",
      "\n",
      "HELLO GUYS\n",
      "\n",
      "just a reminder to all of you that even though we did not achieve the world record on the greatest numb… https://t.co/yBajKbnCVI \n",
      "\n",
      "RT @matthewwarren: I'm excited to be giving this talk at #prognet London in September - From 'dotnet run' to 'Hello World!' https://t.co/ky… \n",
      "\n",
      "RT @daddykmnamjoon: HELLO ARMYS ALL OVER THE WORLD. PLEASE STOP SCROLLING AND HELP ME RETWEET THIS!\n",
      "\n",
      "DM @rtdealpromotion AND I'M GOING TO H… \n",
      "\n",
      "\"Hello World\" (1526984875) \n",
      "\n",
      "@rogercharteris I’ve had some tough castings in the past. A simple thing like the casting director shaking my hand… https://t.co/ZE9lSp5mJU \n",
      "\n",
      "\"Hello World\" (1526984850) \n",
      "\n",
      "\"Hello World\" (1526984833) \n",
      "\n",
      "\"Hello World\" (1526984831) \n",
      "\n"
     ]
    }
   ],
   "source": [
    "for tweet in tweets:\n",
    "    print (f'{tweet.text} \\n')"
   ]
  },
  {
   "cell_type": "code",
   "execution_count": 22,
   "metadata": {},
   "outputs": [
    {
     "data": {
      "text/html": [
       "<link href=\"https://fonts.googleapis.com/css?family=IBM+Plex+Mono|IBM+Plex+Sans|PT+Mono|Slabo+27px\" rel=\"stylesheet\">\n",
       "<style>\n",
       "    @font-face {\n",
       "        font-family: \"Computer Modern\";\n",
       "        src: url('http://mirrors.ctan.org/fonts/cm-unicode/fonts/otf/cmunss.otf');\n",
       "    }\n",
       "    /* div.cell{\n",
       "        width:800px;\n",
       "        margin-left:16% !important;\n",
       "        margin-right:auto;\n",
       "    } */\n",
       "    h1 {\n",
       "        font-family: 'Slabo 27px', serif;\n",
       "        color: #0B132B;\n",
       "    }\n",
       "    h2 {\n",
       "        font-family: 'Slabo 27px', serif;\n",
       "        color: #1C2541;\n",
       "    }\n",
       "    h3{\n",
       "\t\tfont-family: 'Slabo 27px', serif;\n",
       "        margin-top:12px;\n",
       "        margin-bottom: 3px;\n",
       "        color: #3A506B;\n",
       "       }\n",
       "\th4{\n",
       "\t\tfont-family: 'Slabo 27px', serif;\n",
       "        color: #087E8B;\n",
       "       }\n",
       "    h5 {\n",
       "        font-family: 'Slabo 27px', serif;\n",
       "        color: #087E8B;\n",
       "    }\n",
       "    div.text_cell_render{\n",
       "        font-family: 'IBM Plex Sans',Computer Modern, \"Helvetica Neue\", Arial, Helvetica, Geneva, sans-serif;\n",
       "        line-height: 115%;\n",
       "        font-size: 110%;\n",
       "        /* width:600px; */\n",
       "        /* margin-left:auto;\n",
       "        margin-right:auto; */\n",
       "    }\n",
       "    .CodeMirror{\n",
       "      font-family: \"PT Mono\";\n",
       "\t\t\tfont-size: 95%;\n",
       "    }\n",
       "/*    .prompt{\n",
       "        display: None;\n",
       "    }*/\n",
       "    .text_cell_render h1 {\n",
       "        font-weight: 200;\n",
       "        font-size: 30pt;\n",
       "        /* font-size: 50pt */\n",
       "\t\t    line-height: 100%;\n",
       "        color:#0B132B;\n",
       "        margin-bottom: 0.5em;\n",
       "        margin-top: 0.5em;\n",
       "        display: block;\n",
       "    }\n",
       "    .text_cell_render h5 {\n",
       "        font-weight: 300;\n",
       "        font-size: 16pt;\n",
       "        color: #087E8B;\n",
       "        font-style: italic;\n",
       "        margin-bottom: .5em;\n",
       "        margin-top: 0.5em;\n",
       "        display: block;\n",
       "    }\n",
       "\n",
       "    .warning{\n",
       "        color: rgb( 240, 20, 20 )\n",
       "        }\n",
       "\n",
       "    div.warn {\n",
       "    background-color: #FF5A5F;\n",
       "    border-color: #FF5A5F;\n",
       "    border-left: 5px solid #C81D25;\n",
       "    padding: 0.5em;\n",
       "\n",
       "    color: #fff;\n",
       "    opacity: 0.8;\n",
       "    }\n",
       "\n",
       " div.info {\n",
       "    background-color: #087E8B;\n",
       "    border-color: #087E8B;\n",
       "    border-left: 5px solid #0B3954;\n",
       "    padding: 0.5em;\n",
       "    color: #fff;\n",
       "    opacity: 0.8;\n",
       "    }\n",
       "\n",
       "</style>\n",
       "<script>\n",
       "    MathJax.Hub.Config({\n",
       "                        TeX: {\n",
       "                           extensions: [\"AMSmath.js\"]\n",
       "                           },\n",
       "                tex2jax: {\n",
       "                    inlineMath: [ ['$','$'], [\"\\\\(\",\"\\\\)\"] ],\n",
       "                    displayMath: [ ['$$','$$'], [\"\\\\[\",\"\\\\]\"] ]\n",
       "                },\n",
       "                displayAlign: 'center', // Change this to 'center' to center equations.\n",
       "                \"HTML-CSS\": {\n",
       "                    styles: {'.MathJax_Display': {\"margin\": 4}}\n",
       "                }\n",
       "        });\n",
       "</script>\n"
      ],
      "text/plain": [
       "<IPython.core.display.HTML object>"
      ]
     },
     "execution_count": 22,
     "metadata": {},
     "output_type": "execute_result"
    }
   ],
   "source": [
    "from IPython.core.display import HTML\n",
    "\n",
    "\n",
    "def css_styling():\n",
    "    styles = open(\"styles/custom.css\", \"r\").read()\n",
    "    return HTML(styles)\n",
    "css_styling()"
   ]
  }
 ],
 "metadata": {
  "kernelspec": {
   "display_name": "Python 3",
   "language": "python",
   "name": "python3"
  },
  "language_info": {
   "codemirror_mode": {
    "name": "ipython",
    "version": 3
   },
   "file_extension": ".py",
   "mimetype": "text/x-python",
   "name": "python",
   "nbconvert_exporter": "python",
   "pygments_lexer": "ipython3",
   "version": "3.6.5"
  },
  "varInspector": {
   "cols": {
    "lenName": 16,
    "lenType": 16,
    "lenVar": 40
   },
   "kernels_config": {
    "python": {
     "delete_cmd_postfix": "",
     "delete_cmd_prefix": "del ",
     "library": "var_list.py",
     "varRefreshCmd": "print(var_dic_list())"
    },
    "r": {
     "delete_cmd_postfix": ") ",
     "delete_cmd_prefix": "rm(",
     "library": "var_list.r",
     "varRefreshCmd": "cat(var_dic_list()) "
    }
   },
   "types_to_exclude": [
    "module",
    "function",
    "builtin_function_or_method",
    "instance",
    "_Feature"
   ],
   "window_display": false
  }
 },
 "nbformat": 4,
 "nbformat_minor": 2
}
