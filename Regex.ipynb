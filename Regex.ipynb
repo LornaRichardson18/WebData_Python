{
 "cells": [
  {
   "cell_type": "markdown",
   "metadata": {},
   "source": [
    "# Introduction to Regular expressions\n",
    "\n",
    "## ⭐️ Why are regular expressions important?\n",
    "Do you often work with loads of data files on the computer? Do you often try to spot particular files or lines of text in them that are important for you?\n",
    "\n",
    "**Regular expressions** (or regex/REs) can help you save loads of time of fustration! \n",
    "\n",
    "\n",
    "![regex](./assets/regex1.jpg)"
   ]
  },
  {
   "cell_type": "markdown",
   "metadata": {},
   "source": [
    "## ⁇ What is a regular expression?\n",
    "A regular expression (regex) is a string of characters defining a pattern that should be searched for in a block of text. A regex can be constructed to allow multiple possible matches, while restricting other possibilities, making the approach considerably more powerful and precise than the simple `CTRL+F` or `Find/Replace` operations that you might be familiar with from word processing/web browser software. It's also possible to use regular expressions to specify parts of the search pattern that will be kept in the replacement string of a substitution operation.\n",
    "\n",
    "Let's see an illustrated example of a regex:\n",
    "![](./assets/regex.jpg)\n",
    "\n",
    "The above regex will look for:\n",
    "- A character `B` followed by **at least** one of the following characters:\n",
    "    - Characters between `a` and `z` \n",
    "    - Characters between `A` and `Z`\n",
    "    - Characters between `0` and `9`\n"
   ]
  },
  {
   "cell_type": "markdown",
   "metadata": {},
   "source": [
    "## 📑 Illustrative Example\n",
    "Imagine that you have a long text document. The document contains a lot of numbers - years (2014, 2016, 1998, etc), digits (9, 4, 58, etc), and a single phone number (i.e. eleven digits). You need to find the phone number, but it's buried in this large body of text, amongst many other numbers. You can't remember much about the phone number (like what digit(s) it starts with), you can't just randomly search strings of digits with `CTRL+F`/`Find/Replace`, because there's far too many possible combinations (one *trillion* eleven-digit numbers!) and simply performing ten individual searches for the digits from `0` to `9` finds you a lot of unwanted results.\n",
    "\n",
    "**What are your options?**\n",
    "\n",
    "1. You *could* run one of these searches for an individual digit, then manually click through each result, until you eventually find the phone number. \n",
    "2. You could simply scroll through the document, scanning, by eye, for something that looks like a phone number. But that is likely to take a *long* time, is really boring, and anyway it's 4:55 on Friday afternoon and you need to find that phone number and get upstairs before all the pizza is gone!\n",
    "\n",
    "3. **This is where a regular expression search will make things much easier for you!**\n",
    "\n",
    "You know that you need to find eleven digits in succession, so you need to write an expression that represents eleven digits. Good news! With regular expressions, you can search for any digit using the 'token' `\\d`. So, to find the phone number, you only need to provide the expression `\\d\\d\\d\\d\\d\\d\\d\\d\\d\\d\\d`* to your regex search tool. The phone number will pop right out, leaving you with time to head upstairs and wait for the pizza to arrive!\n",
    "\n",
    "\\* the regular expression language actually allows you to avoid such a long string of the same token/character, but we will come to that later on.\n",
    "\n",
    "![xkcd](./assets/xkcd_regex.png)\n",
    "\n",
    "\n",
    "\n",
    "## ⭐️ Regular Expression Engines\n",
    "In order to perform a regex search, you need to provide the expression to a program that can interpret it. Such tools are known as regular expression engines. Unfortunately, there are multiple different 'flavours' of regex engines, which each work slightly differently. Fortunately, the core rules, which will probably address 99.9% of your text-searching needs, are pretty much common to all of them. It's these that we will cover in this course.\n",
    "\n",
    "## How can I use Regular Expressions?\n",
    "### Text Editors\n",
    "In order to be able to use regular expressions, you need to use a program that provides an engine to interpret them. Most text editors will provide regex search/replace functionality. If you use Windows, we highly recommend the freely-available editor 'Notepad++', available at [https://notepad-plus-plus.org](https://notepad-plus-plus.org). For Mac, TextWrangler is a good generic text editor, free from [http://www.barebones.com/products/TextWrangler/](http://www.barebones.com/products/TextWrangler/) or the App Store. For Windows, Mac, and Linux, Atom is a good option [https://atom.io](https://atom.io]). Finally, Sublime Text is another good option, available from [https://www.sublimetext.com](https://www.sublimetext.com).\n",
    "\n",
    "Usually, you will need to specify that you want to use regular expression searching instead of the normal plain text searching that you are probably already familiar with. When you open up the `Find/Replace` interface in your editor, you should look for an option with a label like \"mode\", \"grep-like\", \"regular expression\" or \"regex\", and use this to control the type of searching that you want to do.\n",
    "\n",
    "\n",
    "### Command Line\n",
    "In addition, several Unix command line tools are commonly available that use regular expressions, for searching (e.g. `grep`/`egrep`) and replacement/substitution (e.g. `sed`, `awk`, `perl -e`).\n",
    "\n",
    "### Online tools\n",
    "There are a number of online tools that can help you getting started with Regex some examples are:\n",
    "- [https://regex101.com](https://regex101.com)\n"
   ]
  },
  {
   "cell_type": "markdown",
   "metadata": {},
   "source": [
    "## ⬇️ How can I get the files to use in the exercises?\n",
    "Download a Zip of the exercises [here](****)\n",
    "\n",
    "---"
   ]
  },
  {
   "cell_type": "markdown",
   "metadata": {},
   "source": [
    "## 🐍 Regex in Python\n",
    "Since searching for string patters is a very common task Python has its own *regular expressions* library that handles regex very elegantly. You can find the documentation for this library [here](https://docs.python.org/2/library/re.html) and [here](https://docs.python.org/3.6/library/re.html).\n",
    "\n",
    "Now let's get started!"
   ]
  },
  {
   "cell_type": "code",
   "execution_count": 38,
   "metadata": {},
   "outputs": [
    {
     "data": {
      "text/plain": [
       "['abcdefghijklmnopqrstuvwxyz',\n",
       " 'aat bat cat dat eat fat gat hat iat jat kat lat mat nat oat pat qat rat sat tat uat vat wat xat yat zat',\n",
       " 'AGCCGCTTCGAATCCGGGATCTAAGTCAATACTATTGACGCTACGGCTTAATAGATAGATAGCCCTACGATAGAT',\n",
       " 'MEFSSPSREECPKPLSRVSIMAGSLTGLLLLQAVSWASGARPCIPKSFGYSSVVCVCNATYCDSFDPPTFPALGTFSRYESTRSGRRMELSMGPIQANHTGTGLLLTLQPEQKFQKVKGF',\n",
       " 'the quick brown fox jumps over the lazy dog',\n",
       " 'all these moments will be lost in time, like tears in the rain',\n",
       " 'steve.jones@embl.de ann.carradine@embl.de jim.hutchins@google.com billyidol@rebel83.net ljg3112@newwave.co.uk',\n",
       " '#python #research #Mozilla #thisisnota#',\n",
       " '2018-01-02',\n",
       " '2017-06-06',\n",
       " '2017-07-07',\n",
       " 'CH1',\n",
       " 'CH2',\n",
       " 'CH11',\n",
       " 'CH21']"
      ]
     },
     "execution_count": 38,
     "metadata": {},
     "output_type": "execute_result"
    }
   ],
   "source": [
    "import re #import the library\n",
    "\n",
    "# Now we will be loading the basic examples file we have\n",
    "examples = open('./example_files/basic_examples.txt', 'r')\n",
    "\n",
    "lines = [line.strip() for line in open('./example_files/basic_examples.txt', 'r')]\n",
    "lines"
   ]
  },
  {
   "cell_type": "markdown",
   "metadata": {},
   "source": [
    "---\n",
    "### 📝 The basics\n",
    "\n",
    "#### Search for a literal string"
   ]
  },
  {
   "cell_type": "code",
   "execution_count": 39,
   "metadata": {},
   "outputs": [],
   "source": [
    "# Getting all the words into a list\n",
    "words = examples.read().rsplit()"
   ]
  },
  {
   "cell_type": "code",
   "execution_count": 26,
   "metadata": {},
   "outputs": [
    {
     "name": "stdout",
     "output_type": "stream",
     "text": [
      "cat\n"
     ]
    }
   ],
   "source": [
    "for word in words:\n",
    "    if re.search('cat', word):\n",
    "        print(word)"
   ]
  },
  {
   "cell_type": "markdown",
   "metadata": {},
   "source": [
    "** Note how we are writing patterns for strings as strings**"
   ]
  },
  {
   "cell_type": "code",
   "execution_count": 27,
   "metadata": {},
   "outputs": [
    {
     "name": "stdout",
     "output_type": "stream",
     "text": [
      "cat\n",
      "dat\n"
     ]
    }
   ],
   "source": [
    "for word in words:\n",
    "    if re.search('cat|dat', word):\n",
    "        print(word)"
   ]
  },
  {
   "cell_type": "markdown",
   "metadata": {},
   "source": [
    "---\n",
    "### Sets and ranges\n"
   ]
  },
  {
   "cell_type": "markdown",
   "metadata": {},
   "source": [
    "---\n",
    "#### ⚡️ In the spirit of efficiency\n",
    "We are going to write a lot of patterns against out data so let's write a function that will tell us  which records match a particular pattern. Our function `show_matches` takes a pattern and a list of strings, and then for each of those strings, if the pattern matches, we print out the matched string.\n",
    "\n"
   ]
  },
  {
   "cell_type": "code",
   "execution_count": 28,
   "metadata": {},
   "outputs": [],
   "source": [
    "def show_matches(pattern, strings):\n",
    "    for i in strings:\n",
    "        if re.search(pattern, i):\n",
    "            print(i)"
   ]
  },
  {
   "cell_type": "code",
   "execution_count": 29,
   "metadata": {},
   "outputs": [
    {
     "name": "stdout",
     "output_type": "stream",
     "text": [
      "cat\n",
      "dat\n"
     ]
    }
   ],
   "source": [
    "show_matches('cat|dat', words)"
   ]
  },
  {
   "cell_type": "markdown",
   "metadata": {},
   "source": [
    "---\n",
    "👏🏼 Now we can go back to the ranges... groups of characters can be matched in a certain position is surrounded by `[ ]`"
   ]
  },
  {
   "cell_type": "code",
   "execution_count": 30,
   "metadata": {},
   "outputs": [
    {
     "name": "stdout",
     "output_type": "stream",
     "text": [
      "bat\n",
      "cat\n",
      "kat\n",
      "mat\n",
      "rat\n"
     ]
    }
   ],
   "source": [
    "show_matches('[bcrmk]at', words)"
   ]
  },
  {
   "cell_type": "markdown",
   "metadata": {},
   "source": [
    "** What if we want any upper case letter followed by 'AT'?**"
   ]
  },
  {
   "cell_type": "code",
   "execution_count": 31,
   "metadata": {},
   "outputs": [
    {
     "name": "stdout",
     "output_type": "stream",
     "text": [
      "AGCCGCTTCGAATCCGGGATCTAAGTCAATACTATTGACGCTACGGCTTAATAGATAGATAGCCCTACGATAGAT\n",
      "MEFSSPSREECPKPLSRVSIMAGSLTGLLLLQAVSWASGARPCIPKSFGYSSVVCVCNATYCDSFDPPTFPALGTFSRYESTRSGRRMELSMGPIQANHTGTGLLLTLQPEQKFQKVKGF\n"
     ]
    }
   ],
   "source": [
    "show_matches('[A-Z]AT', words)"
   ]
  },
  {
   "cell_type": "markdown",
   "metadata": {},
   "source": [
    "> #### Exercise\n",
    "> a) Which of the following expressions could you use to match any four-letter word beginning with an uppercase letter, followed by two vowels, and ending with 'd'?  \n",
    "> \n",
    "> ```\t\n",
    "> \ti) [upper][vowel][vowel]d  \n",
    "> \n",
    "> \tii) [A-Z][a-u][a-u]d\n",
    "> \n",
    "> \tiii) [A-Z][aeiou][aeiou]d\n",
    "> \n",
    "> \tiv) [A-Z][aeiou]*2;d\n",
    "> ``` \n",
    "> b) Try playing around with the character ranges that you have learned above. \n",
    ">\n",
    "> What does `[A-z]` evauluate to? What about `[a-Z]`? Can you create a range that covers all letter and  number characters?\n",
    "\n",
    "<div class=info>\n",
    "Ranges don't have to include the whole alphabet or every digit - you can define any range you want\n",
    "</div>"
   ]
  },
  {
   "cell_type": "markdown",
   "metadata": {},
   "source": [
    "#### Inverted sets\n",
    "We can also specify a range or characters to _not_ match a string or character:"
   ]
  },
  {
   "cell_type": "code",
   "execution_count": 32,
   "metadata": {},
   "outputs": [
    {
     "name": "stdout",
     "output_type": "stream",
     "text": [
      "aat\n",
      "bat\n",
      "dat\n",
      "eat\n",
      "gat\n",
      "hat\n",
      "iat\n",
      "jat\n",
      "kat\n",
      "lat\n",
      "mat\n",
      "nat\n",
      "oat\n",
      "pat\n",
      "qat\n",
      "rat\n",
      "sat\n",
      "tat\n",
      "uat\n",
      "vat\n",
      "wat\n",
      "xat\n",
      "yat\n",
      "zat\n"
     ]
    }
   ],
   "source": [
    "show_matches('[^cf]at', words)"
   ]
  },
  {
   "cell_type": "markdown",
   "metadata": {},
   "source": [
    "---\n",
    "### 📝 Tokens and wildcards\n",
    "####  Referencing multiple characters\n",
    "\n",
    "In the introductory example we introduced the `\\d` token to represent any digit. So the following two expressions are equivalent:\n",
    "```\n",
    "[0-9]\n",
    "\\d\n",
    "```\n",
    "Tokens in general are shorter form ways of describing standard, commonly-used character sets/classes. The table below describes the tokens available for use in regex.\n",
    "\n",
    "Token | Matches                                                 | Set Equivalent |\n",
    "------|---------------------------------------------------------|----------------|\n",
    "`\\d`  | Any digit                                               | `[0-9]`        |\n",
    "`\\s`  | Any whitespace character (space, tab, newlines)         | `[ \\t\\n\\r\\f]`  |\n",
    "`\\w`  | Any 'word character' - letters, numbers, and underscore | `[A-Za-z0-9_]` |\n",
    "`\\b`  | A word boundary character                               | n/a        |\n",
    "`\\D`  | The inverse of `\\d` i.e. any character except a digit   | `[^0-9]`       |\n",
    "`\\S`  | Any non-whitespace character                            | `[^ \\t\\n\\r\\f]` |\n",
    "`\\W`  | Any non-word character                                  | `[^A-Za-z0-9_]`|\n",
    "\n",
    "\n",
    "This even extends to far as to the backslash character itself - you can specify that you want to match a literal backslash, by preceding that backslash character with - you guessed it! - a backslash i.e. with `\\\\`.\n",
    "\n",
    "> #### Exercise \n",
    "> Match dates of the form 31-01-2017 (DAY-MONTH-YEAR) in our file\n"
   ]
  },
  {
   "cell_type": "markdown",
   "metadata": {},
   "source": [
    "#### Word Boundaries\n",
    "\n",
    "The `\\d`, `\\w`, and `\\s` tokens are reasonably easy to understand - each one represents a clear set of characters. The `\\b` token is more interesting - it is used to match what is referred to as a 'word boundary', and can be used to ensure matching of whole words only. For example, we want to find every instance of 'CH1' and 'CH2' in our file. Using what we've already learned, we can design the regex\n",
    "\n",
    "```\n",
    "CH[12]\n",
    "```\n",
    "\n",
    "which will match either of the two target strings. However, this regex will also match all but the last character of 'CH11' and 'CH21', which is not what we want. How can we be sure that we will only match the two chromosome identifiers that we want, without additional digits on the end? We could add a space character to the end of the regex. But what if the target string appears at the end of a line? Or before a symbol/delimiter such as ';' or '.'? These strings will be missed by our regex ending with a space. \n",
    "\n",
    "This is where the `\\b` token comes in handy. 'Word boundary' characters include all of the options described above - symbols that might be used as field delimiters, periods and commas, newline characters, plus the special regex characters `^` and `$`, which refer to the beginning and end of a string respectively (more on these in a moment). So, by using the regex\n",
    "\n",
    "```\n",
    "\\bCH[12]\\b\n",
    "```\n",
    "\n",
    "we ensure that we will only get matches to 'CH1' and 'CH2' as whole words, regardless of whether they are flanked by spaces, symbols, or the beginning or end of a line."
   ]
  },
  {
   "cell_type": "code",
   "execution_count": 42,
   "metadata": {},
   "outputs": [
    {
     "name": "stdout",
     "output_type": "stream",
     "text": [
      "CH1\n",
      "CH2\n"
     ]
    }
   ],
   "source": [
    "show_matches(r'\\bCH[12]\\b', words)"
   ]
  },
  {
   "cell_type": "markdown",
   "metadata": {},
   "source": [
    "<div class=info>\n",
    "When writing regular expression in Python, it is recommended that you use _raw strings_ instead of regular Python strings. Raw strings begin with a special prefix (r) and signal Python not to interpret backslashes and special metacharacters in the string, allowing you to pass them through directly to the regular expression engine.\n",
    "\n",
    "This means that a pattern like \"\\n\\w\" will not be interpreted and can be written as r\"\\n\\w\" instead of \"\\\\n\\\\w\" as in other languages, which is much easier to read.\n",
    "</div>"
   ]
  },
  {
   "cell_type": "markdown",
   "metadata": {},
   "source": [
    "#### The `.` Wildcard\n",
    "\n",
    "As well as the set tokens described above, there is also the more general wildcard `.`, which can be used to match any single character. Although it can be very helpful at times, it is recommended to use a more specific token/set when possible. Remember, to match a literal `.` character, escape it with a backslash i.e. `\\.`.\n",
    "\n",
    "#### `^` Start and End `$`\n",
    "The `^` and `$` symbols are used in a regex to represent the beginning and end of the searched line - they are refered to as 'anchor' characters. This can be extremely helpful when searching for lines that begin with a particular string/pattern, but where that pattern might also be found elsewhere in the lines. \n",
    "\n",
    "For example, in our file we have a number of hashtags which are denoted by the familiar `#` symbol. If we search only with `#`, we won't be able to get any of the hashtags, so instead we can use the regex\n",
    "\n",
    "```\n",
    "^#\n",
    "```\n"
   ]
  },
  {
   "cell_type": "code",
   "execution_count": 43,
   "metadata": {},
   "outputs": [
    {
     "name": "stdout",
     "output_type": "stream",
     "text": [
      "#python\n",
      "#research\n",
      "#Mozilla\n",
      "#thisisnota#\n"
     ]
    }
   ],
   "source": [
    "show_matches(r'^#', words)"
   ]
  },
  {
   "cell_type": "markdown",
   "metadata": {},
   "source": [
    "<div class=warn>\n",
    "Do not modify below: this adds the style to the notebook\n",
    "</div>"
   ]
  },
  {
   "cell_type": "code",
   "execution_count": 44,
   "metadata": {},
   "outputs": [
    {
     "data": {
      "text/html": [
       "<link href=\"https://fonts.googleapis.com/css?family=IBM+Plex+Mono|IBM+Plex+Sans|PT+Mono|Slabo+27px\" rel=\"stylesheet\">\n",
       "<style>\n",
       "    @font-face {\n",
       "        font-family: \"Computer Modern\";\n",
       "        src: url('http://mirrors.ctan.org/fonts/cm-unicode/fonts/otf/cmunss.otf');\n",
       "    }\n",
       "    div.cell{\n",
       "        width:800px;\n",
       "        margin-left:16% !important;\n",
       "        margin-right:auto;\n",
       "    }\n",
       "    h1 {\n",
       "        font-family: 'Slabo 27px', serif;\n",
       "        color: #0B132B;\n",
       "    }\n",
       "    h2 {\n",
       "        font-family: 'Slabo 27px', serif;\n",
       "        color: #1C2541;\n",
       "    }\n",
       "    h3{\n",
       "\t\tfont-family: 'Slabo 27px', serif;\n",
       "        margin-top:12px;\n",
       "        margin-bottom: 3px;\n",
       "        color: #3A506B;\n",
       "       }\n",
       "\th4{\n",
       "\t\tfont-family: 'Slabo 27px', serif;\n",
       "        color: #087E8B;\n",
       "       }\n",
       "    h5 {\n",
       "        font-family: 'Slabo 27px', serif;\n",
       "        color: #087E8B;\n",
       "    }\t   \n",
       "    div.text_cell_render{\n",
       "        font-family: 'IBM Plex Sans',Computer Modern, \"Helvetica Neue\", Arial, Helvetica, Geneva, sans-serif;\n",
       "        line-height: 135%;\n",
       "        font-size: 120%;\n",
       "        width:600px;\n",
       "        margin-left:auto;\n",
       "        margin-right:auto;\n",
       "    }\n",
       "    .CodeMirror{\n",
       "            font-family: \"PT Mono\";\n",
       "\t\t\tfont-size: 90%;\n",
       "    }\n",
       "/*    .prompt{\n",
       "        display: None;\n",
       "    }*/\n",
       "    .text_cell_render h1 {\n",
       "        font-weight: 200;\n",
       "        font-size: 50pt;\n",
       "\t\tline-height: 100%;\n",
       "        color:#CD2305;\n",
       "        margin-bottom: 0.5em;\n",
       "        margin-top: 0.5em;\n",
       "        display: block;\n",
       "    }\t\n",
       "    .text_cell_render h5 {\n",
       "        font-weight: 300;\n",
       "        font-size: 16pt;\n",
       "        color: #CD2305;\n",
       "        font-style: italic;\n",
       "        margin-bottom: .5em;\n",
       "        margin-top: 0.5em;\n",
       "        display: block;\n",
       "    }\n",
       "    \n",
       "    .warning{\n",
       "        color: rgb( 240, 20, 20 )\n",
       "        }  \n",
       "\n",
       "    div.warn {    \n",
       "    background-color: #FF5A5F;\n",
       "    border-color: #FF5A5F;\n",
       "    border-left: 5px solid #C81D25;\n",
       "    padding: 0.5em;\n",
       "        \n",
       "    color: #fff;\n",
       "    opacity: 0.8;\n",
       "    }\n",
       "\n",
       " div.info {    \n",
       "    background-color: #087E8B;\n",
       "    border-color: #087E8B;\n",
       "    border-left: 5px solid #0B3954;\n",
       "    padding: 0.5em;\n",
       "    color: #fff;\n",
       "    opacity: 0.8;\n",
       "    }\n",
       "\n",
       "</style>\n",
       "<script>\n",
       "    MathJax.Hub.Config({\n",
       "                        TeX: {\n",
       "                           extensions: [\"AMSmath.js\"]\n",
       "                           },\n",
       "                tex2jax: {\n",
       "                    inlineMath: [ ['$','$'], [\"\\\\(\",\"\\\\)\"] ],\n",
       "                    displayMath: [ ['$$','$$'], [\"\\\\[\",\"\\\\]\"] ]\n",
       "                },\n",
       "                displayAlign: 'center', // Change this to 'center' to center equations.\n",
       "                \"HTML-CSS\": {\n",
       "                    styles: {'.MathJax_Display': {\"margin\": 4}}\n",
       "                }\n",
       "        });\n",
       "</script>"
      ],
      "text/plain": [
       "<IPython.core.display.HTML object>"
      ]
     },
     "execution_count": 44,
     "metadata": {},
     "output_type": "execute_result"
    }
   ],
   "source": [
    "from IPython.core.display import HTML\n",
    "\n",
    "\n",
    "def css_styling():\n",
    "    styles = open(\"styles/custom.css\", \"r\").read()\n",
    "    return HTML(styles)\n",
    "css_styling()"
   ]
  }
 ],
 "metadata": {
  "kernelspec": {
   "display_name": "Python 3",
   "language": "python",
   "name": "python3"
  },
  "language_info": {
   "codemirror_mode": {
    "name": "ipython",
    "version": 3
   },
   "file_extension": ".py",
   "mimetype": "text/x-python",
   "name": "python",
   "nbconvert_exporter": "python",
   "pygments_lexer": "ipython3",
   "version": "3.6.4"
  }
 },
 "nbformat": 4,
 "nbformat_minor": 2
}
