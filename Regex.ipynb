{
 "cells": [
  {
   "cell_type": "markdown",
   "metadata": {},
   "source": [
    "# Introductionn to Regular expressions\n",
    "\n",
    "## Why are regular expressions important?\n",
    "Do you often work with loads of data files on the computer? Do you often try to spot particular files or lines of text in them that are important for you?\n",
    "\n",
    "**Regular expressions** (or regex/REs) can help you save loads of time of fustration! \n",
    "\n",
    "\n",
    "![regex](."
   ]
  },
  {
   "cell_type": "markdown",
   "metadata": {},
   "source": [
    "## What is a regular expression?\n",
    "A regular expression (regex) is a string of characters defining a pattern that should be searched for in a block of text. A regex can be constructed to allow multiple possible matches, while restricting other possibilities, making the approach considerably more powerful and precise than the simple `CTRL+F` or `Find/Replace` operations that you might be familiar with from word processing/web browser software. It's also possible to use regular expressions to specify parts of the search pattern that will be kept in the replacement string of a substitution operation.\n",
    "\n",
    "Let's see an illustrated example of a regex:\n",
    "![](./assets/regex.jpg)\n",
    "\n",
    "The above regex will look for:\n",
    "- A character `B` followed by **at least** one of the following characters:\n",
    "    - Characters between`a` and `z` \n",
    "    - Characters between `A` and `Z`\n",
    "    - Characters between `0` and `9`\n"
   ]
  },
  {
   "cell_type": "raw",
   "metadata": {},
   "source": [
    "### Illustrative Example\n",
    "Imagine that you have a long text document. The document contains a lot of numbers - years (2014, 2016, 1998, etc), digits (9, 4, 58, etc), and a single phone number (i.e. eleven digits). You need to find the phone number, but it's buried in this large body of text, amongst many other numbers. You can't remember much about the phone number (like what digit(s) it starts with), you can't just randomly search strings of digits with `CTRL+F`/`Find/Replace`, because there's far too many possible combinations (one *trillion* twelve-digit numbers!) and simply performing ten individual searches for the digits from `0` to `9` finds you a lot of unwanted results.\n",
    "\n",
    "**What are your options?**\n",
    "\n",
    "1. You *could* run one of these searches for an individual digit, then manually click through each result, until you eventually find the phone number. \n",
    "2. You could simply scroll through the document, scanning, by eye, for something that looks like a phone number. But that is likely to take a *long* time, is really boring, and anyway it's 4:55 on Friday afternoon and you need to find that phone number and get upstairs before all the pizza is gone!\n",
    "\n",
    "3. This is where a regular expression search will make things much easier for you! You know that you need to find twelve digits in succession, so you need to write an expression that represents twelve digits. Good news! With regular expressions, you can search for any digit using the 'token' `\\d`. So, to find the phone number, you only need to provide the expression `\\d\\d\\d\\d\\d\\d\\d\\d\\d\\d\\d\\d`* to your regex search tool. The phone number will pop right out, leaving you with time to head upstairs and wait for the pizza to arrive!\n",
    "\n",
    "\\* the regular expression language actually allows you to avoid such a long string of the same token/character, but we will come to that later on.\n",
    "\n",
    "## Regular Expression Engines\n",
    "In order to perform a regex search, you need to provide the expression to a program that can interpret it. Such tools are known as regular expression engines. Unfortunately, there are multiple different 'flavours' of regex engines, which each work slightly differently. Fortunately, the core rules, which will probably address 99.9% of your text-searching needs, are pretty much common to all of them. It's these that we will cover in this course.\n",
    "\n",
    "## How can I use Regular Expressions?\n",
    "### Text Editors\n",
    "In order to be able to use regular expressions, you need to use a program that provides an engine to interpret them. Most text editors will provide regex search/replace functionality. If you use Windows, we highly recommend the freely-available editor 'Notepad++', available at [https://notepad-plus-plus.org](https://notepad-plus-plus.org). For Mac, TextWrangler is a good generic text editor, free from [http://www.barebones.com/products/TextWrangler/](http://www.barebones.com/products/TextWrangler/) or the App Store. For Windows, Mac, and Linux, Sublime Text is another good option, available from [https://www.sublimetext.com](https://www.sublimetext.com).\n",
    "\n",
    "Usually, you will need to specify that you want to use regular expression searching instead of the normal plain text searching that you are probably already familiar with. When you open up the `Find/Replace` interface in your editor, you should look for an option with a label like \"mode\", \"grep-like\", \"regular expression\" or \"regex\", and use this to control the type of searching that you want to do.\n",
    "\n",
    "### Command Line\n",
    "In addition, several Unix command line tools are commonly available that use regular expressions, for searching (e.g. `grep`/`egrep`) and replacement/substitution (e.g. `sed`, `awk`, `perl -e`)."
   ]
  },
  {
   "cell_type": "raw",
   "metadata": {},
   "source": []
  }
 ],
 "metadata": {
  "kernelspec": {
   "display_name": "Python 3",
   "language": "python",
   "name": "python3"
  },
  "language_info": {
   "codemirror_mode": {
    "name": "ipython",
    "version": 3
   },
   "file_extension": ".py",
   "mimetype": "text/x-python",
   "name": "python",
   "nbconvert_exporter": "python",
   "pygments_lexer": "ipython3",
   "version": "3.6.4"
  }
 },
 "nbformat": 4,
 "nbformat_minor": 2
}
