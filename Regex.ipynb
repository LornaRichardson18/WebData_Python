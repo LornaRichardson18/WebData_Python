{
 "cells": [
  {
   "cell_type": "markdown",
   "metadata": {},
   "source": [
    "# Introductionn to Regular expressions\n",
    "\n",
    "## Why are regular expressions important?\n",
    "Do you often work with loads of data files on the computer? Doyou often tey to spot particular files or lines of text in them that are important for you?\n",
    "\n",
    "**Regular expressions** (or regex/REs) can help you save loads of time of frustration! \n"
   ]
  },
  {
   "cell_type": "markdown",
   "metadata": {},
   "source": [
    "## What is a regular expression?\n",
    "A regular expression (regex) is a string of characters defining a pattern that should be searched for in a block of text. A regex can be constructed to allow multiple possible matches, while restricting other possibilities, making the approach considerably more powerful and precise than the simple 'CTRL+F' or 'Find/Replace' operations that you might be familiar with from word processing/web browser software. It's also possible to use regular expressions to specify parts of the search pattern that will be kept in the replacement string of a substitution operation.\n",
    "\n",
    "Let's see an illustrated example of a regex:\n",
    "![](./assets/regex.jpg)\n",
    "\n",
    "The above regex will look for:\n",
    "- A character `B` followed by **at least** one of the following characters:\n",
    "    - Characters between`a` and `z` \n",
    "    - Characters between `A` and `Z`\n",
    "    - Characters between `0` and `9`\n"
   ]
  },
  {
   "cell_type": "code",
   "execution_count": null,
   "metadata": {},
   "outputs": [],
   "source": []
  }
 ],
 "metadata": {
  "kernelspec": {
   "display_name": "Python [default]",
   "language": "python",
   "name": "python3"
  },
  "language_info": {
   "codemirror_mode": {
    "name": "ipython",
    "version": 3
   },
   "file_extension": ".py",
   "mimetype": "text/x-python",
   "name": "python",
   "nbconvert_exporter": "python",
   "pygments_lexer": "ipython3",
   "version": "3.6.4"
  }
 },
 "nbformat": 4,
 "nbformat_minor": 2
}
