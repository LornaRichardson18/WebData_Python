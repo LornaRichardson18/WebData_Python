{
 "cells": [
  {
   "cell_type": "markdown",
   "metadata": {
    "slideshow": {
     "slide_type": "slide"
    }
   },
   "source": [
    "# 🌐 Web Scraping with Python 1"
   ]
  },
  {
   "cell_type": "markdown",
   "metadata": {
    "slideshow": {
     "slide_type": "slide"
    }
   },
   "source": [
    "## Why is this useful?\n",
    "There are many reasons why you would want to scrape data. Some examples are:\n",
    "- Scrape pages of newspapers to get information around important historical events (e.g. elections, major reforms, armed conflicts)\n",
    "- Compare prices of different products by scraping the pages\n",
    "- Find the cheapest flight tickets for your dream holidays!\n",
    "\n",
    "## 📑 Illustrative example\n",
    "Imagine that one day, you find yourself thinking:\n",
    "> Gee, I wonder who the five most popular mathematicians are?\n",
    "\n",
    "One way to do this is to use [Wikipedia's xTools](https://www.mediawiki.org/wiki/XTools) to measure the popularity of a mathematician by equating popularity and page views. For example, look at the page on [Henri Poincaré](https://xtools.wmflabs.org/articleinfo/en.wikipedia.org/Henri_Poincaré). There you can see that Poincaré’s pageviews for the last 60 days are, as of December 2017, around 32,000. \n",
    "\n",
    "Next, you Google for “famous mathematicians” and find [this resource](http://www.fabpedigree.com/james/mathmen.htm) which lists 100 names. Now you have both a page listing mathematician’s names and you have a website that provides information about how “popular” that mathematician is. Now what?\n",
    "\n",
    "This is where Python and web scraping come in. Web scraping is about downloading structured data from the web, selecting some of that data, and passing along what you selected to another process."
   ]
  },
  {
   "cell_type": "markdown",
   "metadata": {},
   "source": [
    "## A little more of theory\n",
    "\n",
    "We first need to understand some basics on how the web works and how we can access the data in the web.\n",
    "\n",
    "### HTTP\n",
    "HTTP or Hypertext Transfer Protocol is an application protocol used for communication between distributed and multi-layered systems on the web. The foundation of the web as we know today (the world wide web) uses HTTP as the main data communication protocol.\n",
    "\n",
    "HTTP functions as a request-response protocol, or in an active fashion, meaning that one end issues a \"request\" and the other end receives the request and responds with a \"response\". This is a generic and more of a high-level explanation, but just have in mind that the response can be pretty much anything that is parseable (a JSON document, XML, HTML, an integer number, a URL...you name it).\n",
    "\n",
    "The classic example of how this work is when you browse the web. Usually speaking, there is a server (or multiple) hosting the website you are accessing that will be in charge of receiving the requests and responding with the website pages (serving them to you). In this case your browser will be known as the \"client\" and the server, well, it's known as the \"server\" \n",
    "\n",
    "![](./assets/http.png)\n",
    "\n",
    "### URLs\n",
    "![](./assets/urls.png)\n",
    "\n",
    "\n",
    "### Verbs / Methods\n",
    "These define the action that should be performed on the the host \n"
   ]
  },
  {
   "cell_type": "code",
   "execution_count": null,
   "metadata": {},
   "outputs": [],
   "source": []
  },
  {
   "cell_type": "markdown",
   "metadata": {},
   "source": [
    "<div class=warn>\n",
    "Do not modify below: this adds the style to the notebook\n",
    "</div>"
   ]
  },
  {
   "cell_type": "code",
   "execution_count": 9,
   "metadata": {},
   "outputs": [
    {
     "data": {
      "text/html": [
       "<link href=\"https://fonts.googleapis.com/css?family=IBM+Plex+Mono|IBM+Plex+Sans|PT+Mono|Slabo+27px\" rel=\"stylesheet\">\n",
       "<style>\n",
       "    @font-face {\n",
       "        font-family: \"Computer Modern\";\n",
       "        src: url('http://mirrors.ctan.org/fonts/cm-unicode/fonts/otf/cmunss.otf');\n",
       "    }\n",
       "    /* div.cell{\n",
       "        width:800px;\n",
       "        margin-left:16% !important;\n",
       "        margin-right:auto;\n",
       "    } */\n",
       "    h1 {\n",
       "        font-family: 'Slabo 27px', serif;\n",
       "        color: #0B132B;\n",
       "    }\n",
       "    h2 {\n",
       "        font-family: 'Slabo 27px', serif;\n",
       "        color: #1C2541;\n",
       "    }\n",
       "    h3{\n",
       "\t\tfont-family: 'Slabo 27px', serif;\n",
       "        margin-top:12px;\n",
       "        margin-bottom: 3px;\n",
       "        color: #3A506B;\n",
       "       }\n",
       "\th4{\n",
       "\t\tfont-family: 'Slabo 27px', serif;\n",
       "        color: #087E8B;\n",
       "       }\n",
       "    h5 {\n",
       "        font-family: 'Slabo 27px', serif;\n",
       "        color: #087E8B;\n",
       "    }\n",
       "    div.text_cell_render{\n",
       "        font-family: 'IBM Plex Sans',Computer Modern, \"Helvetica Neue\", Arial, Helvetica, Geneva, sans-serif;\n",
       "        line-height: 135%;\n",
       "        font-size: 110%;\n",
       "        /* width:600px; */\n",
       "        /* margin-left:auto;\n",
       "        margin-right:auto; */\n",
       "    }\n",
       "    .CodeMirror{\n",
       "      font-family: \"PT Mono\";\n",
       "\t\t\tfont-size: 90%;\n",
       "    }\n",
       "/*    .prompt{\n",
       "        display: None;\n",
       "    }*/\n",
       "    .text_cell_render h1 {\n",
       "        font-weight: 200;\n",
       "        font-size: 50pt;\n",
       "\t\t    line-height: 100%;\n",
       "        color:#0B132B;\n",
       "        margin-bottom: 0.5em;\n",
       "        margin-top: 0.5em;\n",
       "        display: block;\n",
       "    }\n",
       "    .text_cell_render h5 {\n",
       "        font-weight: 300;\n",
       "        font-size: 16pt;\n",
       "        color: #CD2305;\n",
       "        font-style: italic;\n",
       "        margin-bottom: .5em;\n",
       "        margin-top: 0.5em;\n",
       "        display: block;\n",
       "    }\n",
       "\n",
       "    .warning{\n",
       "        color: rgb( 240, 20, 20 )\n",
       "        }\n",
       "\n",
       "    div.warn {\n",
       "    background-color: #FF5A5F;\n",
       "    border-color: #FF5A5F;\n",
       "    border-left: 5px solid #C81D25;\n",
       "    padding: 0.5em;\n",
       "\n",
       "    color: #fff;\n",
       "    opacity: 0.8;\n",
       "    }\n",
       "\n",
       " div.info {\n",
       "    background-color: #087E8B;\n",
       "    border-color: #087E8B;\n",
       "    border-left: 5px solid #0B3954;\n",
       "    padding: 0.5em;\n",
       "    color: #fff;\n",
       "    opacity: 0.8;\n",
       "    }\n",
       "\n",
       "</style>\n",
       "<script>\n",
       "    MathJax.Hub.Config({\n",
       "                        TeX: {\n",
       "                           extensions: [\"AMSmath.js\"]\n",
       "                           },\n",
       "                tex2jax: {\n",
       "                    inlineMath: [ ['$','$'], [\"\\\\(\",\"\\\\)\"] ],\n",
       "                    displayMath: [ ['$$','$$'], [\"\\\\[\",\"\\\\]\"] ]\n",
       "                },\n",
       "                displayAlign: 'center', // Change this to 'center' to center equations.\n",
       "                \"HTML-CSS\": {\n",
       "                    styles: {'.MathJax_Display': {\"margin\": 4}}\n",
       "                }\n",
       "        });\n",
       "</script>\n"
      ],
      "text/plain": [
       "<IPython.core.display.HTML object>"
      ]
     },
     "execution_count": 9,
     "metadata": {},
     "output_type": "execute_result"
    }
   ],
   "source": [
    "from IPython.core.display import HTML\n",
    "\n",
    "\n",
    "def css_styling():\n",
    "    styles = open(\"styles/custom.css\", \"r\").read()\n",
    "    return HTML(styles)\n",
    "css_styling()"
   ]
  }
 ],
 "metadata": {
  "kernelspec": {
   "display_name": "Python 3",
   "language": "python",
   "name": "python3"
  },
  "language_info": {
   "codemirror_mode": {
    "name": "ipython",
    "version": 3
   },
   "file_extension": ".py",
   "mimetype": "text/x-python",
   "name": "python",
   "nbconvert_exporter": "python",
   "pygments_lexer": "ipython3",
   "version": "3.6.5"
  },
  "varInspector": {
   "cols": {
    "lenName": 16,
    "lenType": 16,
    "lenVar": 40
   },
   "kernels_config": {
    "python": {
     "delete_cmd_postfix": "",
     "delete_cmd_prefix": "del ",
     "library": "var_list.py",
     "varRefreshCmd": "print(var_dic_list())"
    },
    "r": {
     "delete_cmd_postfix": ") ",
     "delete_cmd_prefix": "rm(",
     "library": "var_list.r",
     "varRefreshCmd": "cat(var_dic_list()) "
    }
   },
   "types_to_exclude": [
    "module",
    "function",
    "builtin_function_or_method",
    "instance",
    "_Feature"
   ],
   "window_display": false
  }
 },
 "nbformat": 4,
 "nbformat_minor": 2
}
